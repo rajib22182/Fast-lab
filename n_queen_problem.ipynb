{
 "cells": [
  {
   "cell_type": "code",
   "execution_count": null,
   "id": "041f499f-ad5b-41c9-b135-5f9c25beab65",
   "metadata": {},
   "outputs": [],
   "source": [
    "# n = 4 queen problem"
   ]
  },
  {
   "cell_type": "code",
   "execution_count": 47,
   "id": "d7c24b89-6bbd-463d-a1c8-94cedd41333b",
   "metadata": {},
   "outputs": [
    {
     "name": "stdin",
     "output_type": "stream",
     "text": [
      "Enter value of N?  4\n"
     ]
    },
    {
     "name": "stdout",
     "output_type": "stream",
     "text": [
      "2\n",
      " .  Q  .  . \n",
      " .  .  .  Q \n",
      " Q  .  .  . \n",
      " .  .  Q  . \n",
      "\n"
     ]
    },
    {
     "name": "stdin",
     "output_type": "stream",
     "text": [
      "Continue? (y/n):  8\n"
     ]
    },
    {
     "name": "stdout",
     "output_type": "stream",
     "text": [
      "exit!\n"
     ]
    }
   ],
   "source": [
    "def is_safe(queens, row, col):\n",
    "    for r in range(row):\n",
    "        c = queens[r]\n",
    "        if c == col or abs(c - col) == abs(r - row):\n",
    "         return False\n",
    "    return True\n",
    "\n",
    "\n",
    "def solve_n_queens(n):\n",
    "    queens = [-1] * n\n",
    "    solution = []\n",
    "\n",
    "    def backtrack(row):\n",
    "        if row == n:\n",
    "            solution.append(queens[:])\n",
    "            return True\n",
    "\n",
    "        for col in range(n):\n",
    "            if is_safe(queens, row, col):\n",
    "                queens[row] = col\n",
    "                if backtrack(row + 1):\n",
    "                    return True\n",
    "                queens[row] = -1\n",
    "        return False\n",
    "    \n",
    "    backtrack(0)\n",
    "    return solution\n",
    "\n",
    "\n",
    "def print_solution(solution):\n",
    "    if not solution:\n",
    "        print(\"no solution\")\n",
    "        return\n",
    "    sol = solution[0]\n",
    "    for row in sol:\n",
    "        line = [' . '] * len(sol)\n",
    "        line[row] = 'Q'\n",
    "        print(' '. join(line))\n",
    "    print()\n",
    "    \n",
    "\n",
    "while True:\n",
    "  n = int(input(\"enter value of n? \"))\n",
    "    \n",
    "  solution = solve_n_queens(n)\n",
    "  print(len(solution))\n",
    "  print_solution(solution)\n",
    "\n",
    "  if input(\"continue? (y/n): \") != 'y':\n",
    "    break"
   ]
  },
  {
   "cell_type": "code",
   "execution_count": null,
   "id": "3ae79cab-9dc2-41de-a503-99ab5d9234f4",
   "metadata": {},
   "outputs": [],
   "source": []
  },
  {
   "cell_type": "code",
   "execution_count": 1,
   "id": "64aca37e-8f36-463d-a475-5272edc0f1b0",
   "metadata": {},
   "outputs": [
    {
     "name": "stdin",
     "output_type": "stream",
     "text": [
      "Enter value of N?  4\n"
     ]
    },
    {
     "name": "stdout",
     "output_type": "stream",
     "text": [
      "2\n",
      " .  Q  .  . \n",
      " .  .  .  Q \n",
      " Q  .  .  . \n",
      " .  .  Q  . \n",
      "\n"
     ]
    },
    {
     "name": "stdin",
     "output_type": "stream",
     "text": [
      "Continue? (y/n):  8\n"
     ]
    },
    {
     "name": "stdout",
     "output_type": "stream",
     "text": [
      "exit!\n"
     ]
    }
   ],
   "source": [
    "def is_safe(queens, row, col):\n",
    "    for r in range(row):\n",
    "        c = queens[r]\n",
    "        if c == col or abs(c - col) == abs(r - row):\n",
    "            return False\n",
    "    return True\n",
    "\n",
    "def solve_n_queens(n):\n",
    "    queens = [-1] * n\n",
    "    solutions = []\n",
    "\n",
    "    def backtrack(row):\n",
    "        if row == n:\n",
    "            solutions.append(queens[:])\n",
    "            return  \n",
    "        for col in range(n):\n",
    "            if is_safe(queens, row, col):\n",
    "                queens[row] = col\n",
    "                backtrack(row + 1)\n",
    "                queens[row] = -1\n",
    "\n",
    "    backtrack(0)\n",
    "    return solutions\n",
    "\n",
    "def print_solution(solution):\n",
    "    if not solution:\n",
    "        print(\"No solution\")\n",
    "        return\n",
    "    sol = solution[0] \n",
    "    for row in sol:\n",
    "        line = [' . '] * len(sol)\n",
    "        line[row] = ' Q '\n",
    "        print(''.join(line))\n",
    "    print()\n",
    "\n",
    "\n",
    "while True:\n",
    "    n = int(input(\"Enter value of N? \"))\n",
    "    \n",
    "    solutions = solve_n_queens(n)\n",
    "    print(len(solutions))\n",
    "    \n",
    "    # if solutions:\n",
    "    #     print_solution(solutions)\n",
    "     \n",
    "    print_solution(solutions)   \n",
    "\n",
    "    cont = input(\"Continue? (y/n): \").lower()\n",
    "    if cont != 'y':\n",
    "        print(\"exit!\")\n",
    "        break\n"
   ]
  },
  {
   "cell_type": "code",
   "execution_count": 3,
   "id": "9eb7e6bb-1401-49de-b167-9924848d8db0",
   "metadata": {},
   "outputs": [
    {
     "name": "stdin",
     "output_type": "stream",
     "text": [
      "Enter value of N?  4\n"
     ]
    },
    {
     "name": "stdout",
     "output_type": "stream",
     "text": [
      "\n",
      "✅ Total solutions for N = 4: 2\n",
      "\n",
      "🔢 Solution 1:\n",
      " .  Q  .  . \n",
      " .  .  .  Q \n",
      " Q  .  .  . \n",
      " .  .  Q  . \n",
      "\n"
     ]
    },
    {
     "data": {
      "image/png": "[encoded data removed]",
      "text/plain": [
       "<Figure size 640x480 with 1 Axes>"
      ]
     },
     "metadata": {},
     "output_type": "display_data"
    },
    {
     "name": "stdout",
     "output_type": "stream",
     "text": [
      "\n",
      "🔢 Solution 2:\n",
      " .  .  Q  . \n",
      " Q  .  .  . \n",
      " .  .  .  Q \n",
      " .  Q  .  . \n",
      "\n"
     ]
    },
    {
     "data": {
      "image/png": "[encoded data removed]",
      "text/plain": [
       "<Figure size 640x480 with 1 Axes>"
      ]
     },
     "metadata": {},
     "output_type": "display_data"
    },
    {
     "name": "stdin",
     "output_type": "stream",
     "text": [
      "Continue? (y/n):  n\n"
     ]
    },
    {
     "name": "stdout",
     "output_type": "stream",
     "text": [
      "Goodbye! 👋\n"
     ]
    }
   ],
   "source": [
    "import matplotlib.pyplot as plt\n",
    "\n",
    "def is_safe(queens, row, col):\n",
    "    for r in range(row):\n",
    "        c = queens[r]\n",
    "        if c == col or abs(c - col) == abs(r - row):\n",
    "            return False\n",
    "    return True\n",
    "\n",
    "def solve_n_queens(n):\n",
    "    queens = [-1] * n\n",
    "    solutions = []\n",
    "\n",
    "    def backtrack(row):\n",
    "        if row == n:\n",
    "            solutions.append(queens[:])\n",
    "            return\n",
    "        for col in range(n):\n",
    "            if is_safe(queens, row, col):\n",
    "                queens[row] = col\n",
    "                backtrack(row + 1)\n",
    "                queens[row] = -1\n",
    "\n",
    "    backtrack(0)\n",
    "    return solutions\n",
    "\n",
    "def print_solution_list(solutions):\n",
    "    if not solutions:\n",
    "        print(\"No solutions found.\")\n",
    "        return\n",
    "    for idx, sol in enumerate(solutions, start=1):\n",
    "        print(f\"\\n🔢 Solution {idx}:\")\n",
    "        for row in sol:\n",
    "            line = [' . '] * len(sol)\n",
    "            line[row] = ' Q '\n",
    "            print(''.join(line))\n",
    "        print()\n",
    "        plot_board(sol)\n",
    "\n",
    "def plot_board(queens):\n",
    "    n = len(queens)\n",
    "    fig, ax = plt.subplots()\n",
    "    ax.set_xticks([])\n",
    "    ax.set_yticks([])\n",
    "\n",
    "    # Draw squares\n",
    "    for row in range(n):\n",
    "        for col in range(n):\n",
    "            color = 'white' if (row + col) % 2 == 0 else 'gray'\n",
    "            ax.add_patch(plt.Rectangle((col, n - row - 1), 1, 1, color=color))\n",
    "\n",
    "    # Draw queens\n",
    "    for row, col in enumerate(queens):\n",
    "        ax.text(col + 0.5, n - row - 0.5, '♛', ha='center', va='center', fontsize=28, color='red')\n",
    "\n",
    "    ax.set_xlim(0, n)\n",
    "    ax.set_ylim(0, n)\n",
    "    ax.set_aspect('equal')\n",
    "    plt.title(\"N-Queens Solution\")\n",
    "    plt.show()\n",
    "\n",
    "# 🌟 Main Loop\n",
    "while True:\n",
    "    n = int(input(\"Enter value of N? \"))\n",
    "\n",
    "    solutions = solve_n_queens(n)\n",
    "    print(f\"\\n✅ Total solutions for N = {n}: {len(solutions)}\")\n",
    "\n",
    "    print_solution_list(solutions)\n",
    "\n",
    "    cont = input(\"Continue? (y/n): \").strip().lower()\n",
    "    if cont != 'y':\n",
    "        print(\"Goodbye! 👋\")\n",
    "        break\n"
   ]
  },
  {
   "cell_type": "code",
   "execution_count": null,
   "id": "e306fab9-c2dd-4c72-9174-da33d0e0a4de",
   "metadata": {},
   "outputs": [],
   "source": []
  },
  {
   "cell_type": "code",
   "execution_count": 1,
   "id": "e1ee1f18-b28e-4853-88ec-018eccf9b08f",
   "metadata": {},
   "outputs": [
    {
     "name": "stdin",
     "output_type": "stream",
     "text": [
      "Enter value of N?  8\n"
     ]
    },
    {
     "name": "stdout",
     "output_type": "stream",
     "text": [
      "✅ Total solutions for N=8: 92\n",
      " Q  .  .  .  .  .  .  . \n",
      " .  .  .  .  Q  .  .  . \n",
      " .  .  .  .  .  .  .  Q \n",
      " .  .  .  .  .  Q  .  . \n",
      " .  .  Q  .  .  .  .  . \n",
      " .  .  .  .  .  .  Q  . \n",
      " .  Q  .  .  .  .  .  . \n",
      " .  .  .  Q  .  .  .  . \n",
      "\n"
     ]
    },
    {
     "name": "stdin",
     "output_type": "stream",
     "text": [
      "Continue? (y/n):  n\n"
     ]
    },
    {
     "data": {
      "image/png": "[encoded data removed]",
      "text/plain": [
       "<Figure size 1000x600 with 1 Axes>"
      ]
     },
     "metadata": {},
     "output_type": "display_data"
    }
   ],
   "source": [
    "import matplotlib.pyplot as plt\n",
    "\n",
    "def is_safe(queens, row, col):\n",
    "    for r in range(row):\n",
    "        c = queens[r]\n",
    "        if c == col or abs(c - col) == abs(r - row):\n",
    "            return False\n",
    "    return True\n",
    "\n",
    "def solve_n_queens(n):\n",
    "    queens = [-1] * n\n",
    "    solutions = []\n",
    "\n",
    "    def backtrack(row):\n",
    "        if row == n:\n",
    "            solutions.append(queens[:])\n",
    "            return  \n",
    "        for col in range(n):\n",
    "            if is_safe(queens, row, col):\n",
    "                queens[row] = col\n",
    "                backtrack(row + 1)\n",
    "                queens[row] = -1\n",
    "\n",
    "    backtrack(0)\n",
    "    return solutions\n",
    "\n",
    "def print_solution(solution):\n",
    "    if not solution:\n",
    "        print(\"No solution\")\n",
    "        return\n",
    "    sol = solution[0] \n",
    "    for row in sol:\n",
    "        line = [' . '] * len(sol)\n",
    "        line[row] = ' Q '\n",
    "        print(''.join(line))\n",
    "    print()\n",
    "\n",
    "\n",
    "n_values = []\n",
    "solution_counts = []\n",
    "\n",
    "while True:\n",
    "    n = int(input(\"Enter value of N? \"))\n",
    "    \n",
    "    solutions = solve_n_queens(n)\n",
    "    count = len(solutions)\n",
    "    print(f\"✅ Total solutions for N={n}: {count}\")\n",
    "    \n",
    "    print_solution(solutions)\n",
    "\n",
    "\n",
    "    n_values.append(n)\n",
    "    solution_counts.append(count)\n",
    "\n",
    "    cont = input(\"Continue? (y/n): \").lower()\n",
    "    if cont != 'y':\n",
    "        break\n",
    "\n",
    "\n",
    "plt.figure(figsize=(10, 6))\n",
    "plt.bar(n_values, solution_counts, color='skyblue', edgecolor='black')\n",
    "plt.title(\"N-Queens: Number of Solutions vs. N\")\n",
    "plt.xlabel(\"Number of Queens (N)\")\n",
    "plt.ylabel(\"Number of Solutions\")\n",
    "plt.xticks(n_values)\n",
    "plt.grid(axis='y', linestyle='--', alpha=0.7)\n",
    "plt.tight_layout()\n",
    "plt.show()\n"
   ]
  },
  {
   "cell_type": "code",
   "execution_count": null,
   "id": "40494b8e-5022-46f8-8c9b-9abf710d82f3",
   "metadata": {},
   "outputs": [],
   "source": []
  }
 ],
 "metadata": {
  "kernelspec": {
   "display_name": "Python [conda env:base] *",
   "language": "python",
   "name": "conda-base-py"
  },
  "language_info": {
   "codemirror_mode": {
    "name": "ipython",
    "version": 3
   },
   "file_extension": ".py",
   "mimetype": "text/x-python",
   "name": "python",
   "nbconvert_exporter": "python",
   "pygments_lexer": "ipython3",
   "version": "3.12.7"
  }
 },
 "nbformat": 4,
 "nbformat_minor": 5
}
