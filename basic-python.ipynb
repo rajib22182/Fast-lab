{
  "nbformat": 4,
  "nbformat_minor": 0,
  "metadata": {
    "colab": {
      "provenance": [],
      "mount_file_id": "1Nqstq9jASY3Slr3wHbuMJHTT68vB6Djq",
      "authorship_tag": "ABX9TyOQZz6WTqTIoCUUZ9x1Aqdf",
      "include_colab_link": true
    },
    "kernelspec": {
      "name": "python3",
      "display_name": "Python 3"
    },
    "language_info": {
      "name": "python"
    }
  },
  "cells": [
    {
      "cell_type": "markdown",
      "metadata": {
        "id": "view-in-github",
        "colab_type": "text"
      },
      "source": [
        "<a href=\"https://colab.research.google.com/github/rajib22182/Fast-lab/blob/main/basic-python.ipynb\" target=\"_parent\"><img src=\"https://colab.research.google.com/assets/colab-badge.svg\" alt=\"Open In Colab\"/></a>"
      ]
    },
    {
      "cell_type": "code",
      "execution_count": 1,
      "metadata": {
        "colab": {
          "base_uri": "https://localhost:8080/"
        },
        "id": "53Q-uG59AuW5",
        "outputId": "508d7fb5-3868-4c32-9a03-411dd9c13bab"
      },
      "outputs": [
        {
          "output_type": "stream",
          "name": "stdout",
          "text": [
            "Cloning into 'Fast-lab'...\n",
            "remote: Enumerating objects: 6, done.\u001b[K\n",
            "remote: Counting objects: 100% (6/6), done.\u001b[K\n",
            "remote: Compressing objects: 100% (5/5), done.\u001b[K\n",
            "remote: Total 6 (delta 0), reused 0 (delta 0), pack-reused 0 (from 0)\u001b[K\n",
            "Receiving objects: 100% (6/6), 228.82 KiB | 1.28 MiB/s, done.\n"
          ]
        }
      ],
      "source": [
        "!git clone https://github.com/rajib22182/Fast-lab.git"
      ]
    },
    {
      "cell_type": "code",
      "source": [
        "print(\"Hello world!\")\n",
        "\n",
        "# Hello world with a variable\n",
        "msg = \"Hello world!\"\n",
        "print(msg)\n",
        "\n",
        "# Concatenation (combining strings)\n",
        "first_name = 'albert'\n",
        "last_name = 'einstein'\n",
        "full_name = first_name + ' ' + last_name\n",
        "print(full_name)\n"
      ],
      "metadata": {
        "colab": {
          "base_uri": "https://localhost:8080/"
        },
        "id": "4JRDH6gPC1aO",
        "outputId": "9c4dc36c-f5d1-43ac-96fc-ba095616d406"
      },
      "execution_count": 2,
      "outputs": [
        {
          "output_type": "stream",
          "name": "stdout",
          "text": [
            "Hello world!\n",
            "Hello world!\n",
            "albert einstein\n"
          ]
        }
      ]
    },
    {
      "cell_type": "markdown",
      "source": [],
      "metadata": {
        "id": "FlQaukZQC647"
      }
    },
    {
      "cell_type": "code",
      "source": [],
      "metadata": {
        "id": "68Eu3UbJHWSw"
      },
      "execution_count": 2,
      "outputs": []
    }
  ]
}